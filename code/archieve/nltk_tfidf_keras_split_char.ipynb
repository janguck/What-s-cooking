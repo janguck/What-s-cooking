{
 "cells": [
  {
   "cell_type": "code",
   "execution_count": 1,
   "metadata": {},
   "outputs": [
    {
     "name": "stderr",
     "output_type": "stream",
     "text": [
      "/root/anaconda3/envs/ml_python/lib/python3.5/site-packages/h5py/__init__.py:36: FutureWarning: Conversion of the second argument of issubdtype from `float` to `np.floating` is deprecated. In future, it will be treated as `np.float64 == np.dtype(float).type`.\n",
      "  from ._conv import register_converters as _register_converters\n",
      "Using TensorFlow backend.\n"
     ]
    }
   ],
   "source": [
    "import keras.backend.tensorflow_backend as K\n",
    "from sklearn import preprocessing\n",
    "from sklearn.feature_extraction.text import TfidfVectorizer, CountVectorizer\n",
    "import numpy as np\n",
    "from common_helper import *\n",
    "from nltk_helper import *\n",
    "from keras_helper import *"
   ]
  },
  {
   "cell_type": "code",
   "execution_count": 2,
   "metadata": {},
   "outputs": [],
   "source": [
    "train_dr = \"../input/train.json\"\n",
    "test_dr = \"../input/test.json\"\n",
    "traindf, testdf = data_load(train_dr, test_dr)"
   ]
  },
  {
   "cell_type": "code",
   "execution_count": 3,
   "metadata": {},
   "outputs": [],
   "source": [
    "instances = []\n",
    "for ingredients in traindf['ingredients']:\n",
    "    instance = []\n",
    "    for ingredient in ingredients:\n",
    "        word = []\n",
    "        for pos in ingredient.split(\" \"):\n",
    "            instance.append(WordNetLemmatizer().lemmatize(re.sub('[^A-Za-z]', ' ', pos)))\n",
    "    instances.append(''.join(instance))"
   ]
  },
  {
   "cell_type": "code",
   "execution_count": 4,
   "metadata": {},
   "outputs": [],
   "source": [
    "traindf['ingredients_string_char'] = instances\n",
    "x_train_char = traindf['ingredients_string_char'].tolist()"
   ]
  },
  {
   "cell_type": "code",
   "execution_count": 5,
   "metadata": {},
   "outputs": [],
   "source": [
    "instances = []\n",
    "for ingredients in testdf['ingredients']:\n",
    "    instance = []\n",
    "    for ingredient in ingredients:\n",
    "        word = []\n",
    "        for pos in ingredient.split(\" \"):\n",
    "            instance.append(WordNetLemmatizer().lemmatize(re.sub('[^A-Za-z]', ' ', pos)))\n",
    "    instances.append(''.join(instance))"
   ]
  },
  {
   "cell_type": "code",
   "execution_count": 6,
   "metadata": {},
   "outputs": [],
   "source": [
    "testdf['ingredients_string_char'] = instances\n",
    "x_test_char = testdf['ingredients_string_char'].tolist()"
   ]
  },
  {
   "cell_type": "code",
   "execution_count": 7,
   "metadata": {},
   "outputs": [],
   "source": [
    "instances = []\n",
    "for ingredients in traindf['ingredients']:\n",
    "    instance = []\n",
    "    for ingredient in ingredients:\n",
    "        word = []\n",
    "        for pos in ingredient.split(\" \"):\n",
    "            instance.append(WordNetLemmatizer().lemmatize(re.sub('[^A-Za-z]', ' ', pos)))\n",
    "    instances.append(instance)"
   ]
  },
  {
   "cell_type": "code",
   "execution_count": 8,
   "metadata": {},
   "outputs": [],
   "source": [
    "traindf['ingredients_string_split'] = instances\n",
    "traindf['ingredients_string_split'] = [','.join(i).strip().lower() for i in traindf['ingredients_string_split']] \n",
    "x_train_word = traindf['ingredients_string_split'].tolist()"
   ]
  },
  {
   "cell_type": "code",
   "execution_count": 9,
   "metadata": {},
   "outputs": [],
   "source": [
    "instances = []\n",
    "for ingredients in testdf['ingredients']:\n",
    "    instance = []\n",
    "    for ingredient in ingredients:\n",
    "        word = []\n",
    "        for pos in ingredient.split(\" \"):\n",
    "            instance.append(WordNetLemmatizer().lemmatize(re.sub('[^A-Za-z]', ' ', pos)))\n",
    "    instances.append(instance)"
   ]
  },
  {
   "cell_type": "code",
   "execution_count": 10,
   "metadata": {},
   "outputs": [],
   "source": [
    "testdf['ingredients_string_split'] = instances\n",
    "testdf['ingredients_string_split'] = [','.join(i).strip().lower() for i in testdf['ingredients_string_split']]\n",
    "x_test_word = testdf['ingredients_string_split'].tolist()"
   ]
  },
  {
   "cell_type": "code",
   "execution_count": 11,
   "metadata": {},
   "outputs": [],
   "source": [
    "x_train, y_train = word_data_preprocessing(traindf)\n",
    "x_test, _ = word_data_preprocessing(testdf)"
   ]
  },
  {
   "cell_type": "code",
   "execution_count": 12,
   "metadata": {},
   "outputs": [],
   "source": [
    "#tfidf = TfidfVectorizer(analyzer=lambda d: d.split(','), ngram_range=(1,2)).fit(x_train)\n",
    "tfidf = TfidfVectorizer(analyzer=lambda d: d.split(',')).fit(x_train)\n",
    "\n",
    "x_train = tfidf.fit_transform(x_train).toarray()\n",
    "x_test = tfidf.transform(x_test).toarray()\n",
    "\n",
    "lb = preprocessing.LabelBinarizer()\n",
    "lb.fit(traindf.cuisine.values)\n",
    "y_train = lb.transform(traindf.cuisine.values)"
   ]
  },
  {
   "cell_type": "code",
   "execution_count": 13,
   "metadata": {},
   "outputs": [],
   "source": [
    "tfidf = TfidfVectorizer(analyzer=lambda d: d.split(',')).fit(x_train_word)\n",
    "\n",
    "x_train_word = tfidf.fit_transform(x_train_word).toarray()\n",
    "x_test_word = tfidf.transform(x_test_word).toarray()"
   ]
  },
  {
   "cell_type": "code",
   "execution_count": 14,
   "metadata": {},
   "outputs": [],
   "source": [
    "countvec = CountVectorizer(analyzer='char').fit(x_train_char)\n",
    "\n",
    "x_train_char = countvec.fit_transform(x_train_char).toarray()\n",
    "x_test_char = countvec.transform(x_test_char).toarray()"
   ]
  },
  {
   "cell_type": "code",
   "execution_count": 15,
   "metadata": {},
   "outputs": [],
   "source": [
    "x_train = np.concatenate((x_train, x_train_word), axis=1)\n",
    "x_test = np.concatenate((x_test, x_test_word), axis=1)"
   ]
  },
  {
   "cell_type": "code",
   "execution_count": 16,
   "metadata": {},
   "outputs": [],
   "source": [
    "x_train = np.concatenate((x_train, x_train_char), axis=1)\n",
    "x_test = np.concatenate((x_test, x_test_char), axis=1)"
   ]
  },
  {
   "cell_type": "code",
   "execution_count": 17,
   "metadata": {},
   "outputs": [
    {
     "data": {
      "text/plain": [
       "(39774, 9712)"
      ]
     },
     "execution_count": 17,
     "metadata": {},
     "output_type": "execute_result"
    }
   ],
   "source": [
    "x_train.shape"
   ]
  },
  {
   "cell_type": "code",
   "execution_count": null,
   "metadata": {
    "scrolled": true
   },
   "outputs": [
    {
     "name": "stderr",
     "output_type": "stream",
     "text": [
      "/root/strawberry/code/keras_helper.py:9: UserWarning: Update your `Dense` call to the Keras 2 API: `Dense(540, activation=\"relu\", input_shape=(9712,), kernel_initializer=\"glorot_uniform\")`\n",
      "  model.add(Dense(540, init='glorot_uniform', activation='relu', input_shape=(x_train.shape[1],)))\n",
      "/root/strawberry/code/keras_helper.py:11: UserWarning: Update your `Dense` call to the Keras 2 API: `Dense(180, activation=\"relu\", kernel_initializer=\"glorot_uniform\")`\n",
      "  model.add(Dense(180, init='glorot_uniform', activation='relu'))\n",
      "/root/anaconda3/envs/ml_python/lib/python3.5/site-packages/keras/models.py:942: UserWarning: The `nb_epoch` argument in `fit` has been renamed `epochs`.\n",
      "  warnings.warn('The `nb_epoch` argument in `fit` '\n"
     ]
    },
    {
     "name": "stdout",
     "output_type": "stream",
     "text": [
      "Train on 27841 samples, validate on 11933 samples\n",
      "Epoch 1/60\n",
      "27841/27841 [==============================] - 4s 146us/step - loss: 2.8372 - acc: 0.1740 - val_loss: 2.5247 - val_acc: 0.3329\n",
      "Epoch 2/60\n",
      "27841/27841 [==============================] - 3s 111us/step - loss: 2.5120 - acc: 0.2849 - val_loss: 2.2519 - val_acc: 0.4259\n",
      "Epoch 3/60\n",
      "27841/27841 [==============================] - 3s 113us/step - loss: 2.2528 - acc: 0.3865 - val_loss: 1.9881 - val_acc: 0.4701\n",
      "Epoch 4/60\n",
      "27841/27841 [==============================] - 3s 121us/step - loss: 2.0291 - acc: 0.4490 - val_loss: 1.7964 - val_acc: 0.5067\n",
      "Epoch 5/60\n",
      "27841/27841 [==============================] - 3s 113us/step - loss: 1.8431 - acc: 0.4946 - val_loss: 1.6204 - val_acc: 0.5494\n",
      "Epoch 6/60\n",
      "27841/27841 [==============================] - 3s 110us/step - loss: 1.6838 - acc: 0.5330 - val_loss: 1.4652 - val_acc: 0.5896\n",
      "Epoch 7/60\n",
      "27841/27841 [==============================] - 3s 122us/step - loss: 1.5328 - acc: 0.5669 - val_loss: 1.3281 - val_acc: 0.6231\n",
      "Epoch 8/60\n",
      "27841/27841 [==============================] - 3s 116us/step - loss: 1.4049 - acc: 0.6004 - val_loss: 1.2123 - val_acc: 0.6493\n",
      "Epoch 9/60\n",
      "27841/27841 [==============================] - 3s 113us/step - loss: 1.2934 - acc: 0.6298 - val_loss: 1.1189 - val_acc: 0.6740\n",
      "Epoch 10/60\n",
      "27841/27841 [==============================] - 3s 121us/step - loss: 1.1931 - acc: 0.6537 - val_loss: 1.0433 - val_acc: 0.6972\n",
      "Epoch 11/60\n",
      "27841/27841 [==============================] - 3s 117us/step - loss: 1.1231 - acc: 0.6781 - val_loss: 0.9906 - val_acc: 0.7140\n",
      "Epoch 12/60\n",
      "27841/27841 [==============================] - 3s 121us/step - loss: 1.0408 - acc: 0.6978 - val_loss: 0.9338 - val_acc: 0.7253\n",
      "Epoch 13/60\n",
      "27841/27841 [==============================] - 3s 120us/step - loss: 0.9770 - acc: 0.7151 - val_loss: 0.8949 - val_acc: 0.7409\n",
      "Epoch 14/60\n",
      "27841/27841 [==============================] - 3s 121us/step - loss: 0.9220 - acc: 0.7327 - val_loss: 0.8564 - val_acc: 0.7522\n",
      "Epoch 15/60\n",
      "27841/27841 [==============================] - 3s 122us/step - loss: 0.8673 - acc: 0.7505 - val_loss: 0.8252 - val_acc: 0.7616\n",
      "Epoch 16/60\n",
      "27841/27841 [==============================] - 3s 118us/step - loss: 0.8289 - acc: 0.7605 - val_loss: 0.8027 - val_acc: 0.7659\n",
      "Epoch 17/60\n",
      "27841/27841 [==============================] - 3s 119us/step - loss: 0.7857 - acc: 0.7715 - val_loss: 0.7830 - val_acc: 0.7715\n",
      "Epoch 18/60\n",
      "27841/27841 [==============================] - 3s 120us/step - loss: 0.7511 - acc: 0.7811 - val_loss: 0.7630 - val_acc: 0.7786\n",
      "Epoch 19/60\n",
      "27841/27841 [==============================] - 3s 118us/step - loss: 0.7170 - acc: 0.7906 - val_loss: 0.7517 - val_acc: 0.7799\n",
      "Epoch 20/60\n",
      "27841/27841 [==============================] - 3s 122us/step - loss: 0.6824 - acc: 0.8025 - val_loss: 0.7378 - val_acc: 0.7856\n",
      "Epoch 21/60\n",
      "27841/27841 [==============================] - 3s 121us/step - loss: 0.6617 - acc: 0.8075 - val_loss: 0.7243 - val_acc: 0.7891\n",
      "Epoch 22/60\n",
      "27841/27841 [==============================] - 3s 122us/step - loss: 0.6286 - acc: 0.8188 - val_loss: 0.7186 - val_acc: 0.7903\n",
      "Epoch 23/60\n",
      "27841/27841 [==============================] - 3s 121us/step - loss: 0.6111 - acc: 0.8222 - val_loss: 0.7081 - val_acc: 0.7923\n",
      "Epoch 24/60\n",
      "27841/27841 [==============================] - 3s 117us/step - loss: 0.5908 - acc: 0.8306 - val_loss: 0.7137 - val_acc: 0.7927\n",
      "Epoch 25/60\n",
      "27841/27841 [==============================] - 3s 121us/step - loss: 0.5676 - acc: 0.8356 - val_loss: 0.6995 - val_acc: 0.7942\n",
      "Epoch 26/60\n",
      "27841/27841 [==============================] - 3s 121us/step - loss: 0.5463 - acc: 0.8425 - val_loss: 0.6991 - val_acc: 0.7936\n",
      "Epoch 27/60\n",
      "27841/27841 [==============================] - 3s 116us/step - loss: 0.5287 - acc: 0.8469 - val_loss: 0.6920 - val_acc: 0.7957\n",
      "Epoch 28/60\n",
      "27841/27841 [==============================] - 3s 122us/step - loss: 0.5083 - acc: 0.8539 - val_loss: 0.6978 - val_acc: 0.7947\n",
      "Epoch 29/60\n",
      "27841/27841 [==============================] - 3s 122us/step - loss: 0.4931 - acc: 0.8557 - val_loss: 0.6961 - val_acc: 0.7944\n",
      "Epoch 30/60\n",
      "27841/27841 [==============================] - 3s 122us/step - loss: 0.4835 - acc: 0.8614 - val_loss: 0.6908 - val_acc: 0.7965\n",
      "Epoch 31/60\n",
      "27841/27841 [==============================] - 3s 122us/step - loss: 0.4634 - acc: 0.8656 - val_loss: 0.6932 - val_acc: 0.7978\n",
      "Epoch 32/60\n",
      "27841/27841 [==============================] - 3s 122us/step - loss: 0.4468 - acc: 0.8677 - val_loss: 0.6916 - val_acc: 0.7993\n",
      "Epoch 33/60\n",
      "27841/27841 [==============================] - 3s 123us/step - loss: 0.4363 - acc: 0.8754 - val_loss: 0.6927 - val_acc: 0.8002\n",
      "Epoch 34/60\n",
      "27841/27841 [==============================] - 3s 122us/step - loss: 0.4262 - acc: 0.8766 - val_loss: 0.6968 - val_acc: 0.7975\n",
      "Epoch 35/60\n",
      "27841/27841 [==============================] - 3s 122us/step - loss: 0.4187 - acc: 0.8763 - val_loss: 0.6968 - val_acc: 0.7996\n",
      "Epoch 36/60\n",
      "27841/27841 [==============================] - 3s 119us/step - loss: 0.4059 - acc: 0.8802 - val_loss: 0.6973 - val_acc: 0.7983\n",
      "Epoch 37/60\n",
      "27841/27841 [==============================] - 3s 121us/step - loss: 0.3899 - acc: 0.8863 - val_loss: 0.6952 - val_acc: 0.7998\n",
      "Epoch 38/60\n",
      "27841/27841 [==============================] - 3s 122us/step - loss: 0.3744 - acc: 0.8900 - val_loss: 0.7001 - val_acc: 0.8005\n",
      "Epoch 39/60\n",
      "27841/27841 [==============================] - 3s 119us/step - loss: 0.3719 - acc: 0.8926 - val_loss: 0.7039 - val_acc: 0.8012\n",
      "Epoch 40/60\n",
      "27841/27841 [==============================] - 3s 116us/step - loss: 0.3614 - acc: 0.8946 - val_loss: 0.7055 - val_acc: 0.7992\n",
      "Epoch 41/60\n",
      "27841/27841 [==============================] - 3s 113us/step - loss: 0.3526 - acc: 0.8969 - val_loss: 0.7104 - val_acc: 0.8011\n",
      "Epoch 42/60\n",
      "27841/27841 [==============================] - 3s 114us/step - loss: 0.3382 - acc: 0.9011 - val_loss: 0.7181 - val_acc: 0.7990\n",
      "Epoch 43/60\n",
      "27841/27841 [==============================] - 3s 116us/step - loss: 0.3321 - acc: 0.9027 - val_loss: 0.7131 - val_acc: 0.7998\n",
      "Epoch 44/60\n",
      "27841/27841 [==============================] - 3s 114us/step - loss: 0.3181 - acc: 0.9072 - val_loss: 0.7186 - val_acc: 0.7996\n",
      "Epoch 45/60\n",
      "27841/27841 [==============================] - 3s 121us/step - loss: 0.3116 - acc: 0.9074 - val_loss: 0.7125 - val_acc: 0.8002\n",
      "Epoch 46/60\n",
      "27841/27841 [==============================] - 3s 116us/step - loss: 0.3001 - acc: 0.9116 - val_loss: 0.7178 - val_acc: 0.8006\n",
      "Epoch 47/60\n",
      "27841/27841 [==============================] - 3s 110us/step - loss: 0.2984 - acc: 0.9142 - val_loss: 0.7279 - val_acc: 0.7980\n",
      "Epoch 48/60\n",
      "27841/27841 [==============================] - 3s 117us/step - loss: 0.2870 - acc: 0.9143 - val_loss: 0.7287 - val_acc: 0.7997\n",
      "Epoch 49/60\n",
      "27841/27841 [==============================] - 3s 121us/step - loss: 0.2836 - acc: 0.9165 - val_loss: 0.7381 - val_acc: 0.7972\n",
      "Epoch 50/60\n",
      "27841/27841 [==============================] - 3s 117us/step - loss: 0.2759 - acc: 0.9187 - val_loss: 0.7407 - val_acc: 0.7952\n",
      "Epoch 51/60\n",
      "27841/27841 [==============================] - 3s 121us/step - loss: 0.2689 - acc: 0.9190 - val_loss: 0.7597 - val_acc: 0.7981\n",
      "Epoch 52/60\n",
      "24000/27841 [========================>.....] - ETA: 0s - loss: 0.2646 - acc: 0.9218"
     ]
    }
   ],
   "source": [
    "a = []\n",
    "for i in range(5):\n",
    "    with K.tf.device('/gpu:0'):\n",
    "        mdl = load_model(x_train)\n",
    "        mdl.fit(x_train, y_train, nb_epoch=60, batch_size=4000,validation_split=0.3)\n",
    "        train_predict = mdl.predict(x_train)\n",
    "        y_test = mdl.predict(x_test)     \n",
    "        a.append(y_test)    \n",
    "        predictions = lb.inverse_transform(y_test)"
   ]
  },
  {
   "cell_type": "code",
   "execution_count": 25,
   "metadata": {},
   "outputs": [
    {
     "name": "stdout",
     "output_type": "stream",
     "text": [
      "저장했다.\n"
     ]
    }
   ],
   "source": [
    "result = lb.inverse_transform(sum(a))\n",
    "save_submission(testdf, predictions)"
   ]
  },
  {
   "cell_type": "code",
   "execution_count": null,
   "metadata": {},
   "outputs": [],
   "source": []
  }
 ],
 "metadata": {
  "kernelspec": {
   "display_name": "Python 3",
   "language": "python",
   "name": "python3"
  },
  "language_info": {
   "codemirror_mode": {
    "name": "ipython",
    "version": 3
   },
   "file_extension": ".py",
   "mimetype": "text/x-python",
   "name": "python",
   "nbconvert_exporter": "python",
   "pygments_lexer": "ipython3",
   "version": "3.5.5"
  }
 },
 "nbformat": 4,
 "nbformat_minor": 2
}
