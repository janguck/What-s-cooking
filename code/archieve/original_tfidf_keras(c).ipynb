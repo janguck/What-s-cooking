{
 "cells": [
  {
   "cell_type": "code",
   "execution_count": 1,
   "metadata": {},
   "outputs": [
    {
     "name": "stderr",
     "output_type": "stream",
     "text": [
      "/root/anaconda3/envs/ml_python/lib/python3.5/site-packages/h5py/__init__.py:36: FutureWarning: Conversion of the second argument of issubdtype from `float` to `np.floating` is deprecated. In future, it will be treated as `np.float64 == np.dtype(float).type`.\n",
      "  from ._conv import register_converters as _register_converters\n",
      "Using TensorFlow backend.\n"
     ]
    }
   ],
   "source": [
    "from sklearn import preprocessing\n",
    "import keras.backend.tensorflow_backend as K\n",
    "import numpy as np\n",
    "from sklearn.feature_extraction.text import TfidfVectorizer\n",
    "from original_helper import *\n",
    "from common_helper import *\n",
    "from keras_helper import *"
   ]
  },
  {
   "cell_type": "code",
   "execution_count": 2,
   "metadata": {},
   "outputs": [],
   "source": [
    "train_dr = \"../input/train.json\"\n",
    "test_dr = \"../input/test.json\"\n",
    "traindf, testdf = data_load(train_dr, test_dr)"
   ]
  },
  {
   "cell_type": "code",
   "execution_count": 3,
   "metadata": {},
   "outputs": [],
   "source": [
    "x_train, y_train = data_preprocessing(traindf)\n",
    "x_test, _ = data_preprocessing(testdf)"
   ]
  },
  {
   "cell_type": "code",
   "execution_count": 4,
   "metadata": {},
   "outputs": [],
   "source": [
    "tfidf = TfidfVectorizer(analyzer=lambda d: d.split(',')).fit(x_train)\n",
    "x_train = tfidf.fit_transform(x_train).toarray()\n",
    "x_test = tfidf.transform(x_test).toarray()\n",
    "\n",
    "lb = preprocessing.LabelBinarizer()\n",
    "lb.fit(traindf.cuisine.values)\n",
    "y_train = lb.transform(traindf.cuisine.values)"
   ]
  },
  {
   "cell_type": "code",
   "execution_count": 5,
   "metadata": {},
   "outputs": [
    {
     "name": "stderr",
     "output_type": "stream",
     "text": [
      "/root/strawberry/code/keras_helper.py:9: UserWarning: Update your `Dense` call to the Keras 2 API: `Dense(560, kernel_initializer=\"glorot_uniform\", activation=\"selu\", input_shape=(6713,))`\n",
      "  model.add(Dense(560, init='glorot_uniform', activation='selu', input_shape=(x_train.shape[1],)))\n",
      "/root/strawberry/code/keras_helper.py:11: UserWarning: Update your `Dense` call to the Keras 2 API: `Dense(140, kernel_initializer=\"glorot_uniform\", activation=\"selu\")`\n",
      "  model.add(Dense(140, init='glorot_uniform', activation='selu'))\n",
      "/root/anaconda3/envs/ml_python/lib/python3.5/site-packages/keras/models.py:942: UserWarning: The `nb_epoch` argument in `fit` has been renamed `epochs`.\n",
      "  warnings.warn('The `nb_epoch` argument in `fit` '\n"
     ]
    },
    {
     "name": "stdout",
     "output_type": "stream",
     "text": [
      "Train on 35796 samples, validate on 3978 samples\n",
      "Epoch 1/10\n",
      "35796/35796 [==============================] - 4s 101us/step - loss: 2.6488 - acc: 0.3238 - val_loss: 2.1702 - val_acc: 0.4052\n",
      "Epoch 2/10\n",
      "35796/35796 [==============================] - 2s 61us/step - loss: 1.9129 - acc: 0.4816 - val_loss: 1.5970 - val_acc: 0.5646\n",
      "Epoch 3/10\n",
      "35796/35796 [==============================] - 2s 61us/step - loss: 1.4282 - acc: 0.6148 - val_loss: 1.2390 - val_acc: 0.6559\n",
      "Epoch 4/10\n",
      "35796/35796 [==============================] - 2s 68us/step - loss: 1.1247 - acc: 0.7017 - val_loss: 1.0195 - val_acc: 0.7177\n",
      "Epoch 5/10\n",
      "35796/35796 [==============================] - 2s 58us/step - loss: 0.9271 - acc: 0.7490 - val_loss: 0.8814 - val_acc: 0.7474\n",
      "Epoch 6/10\n",
      "35796/35796 [==============================] - 2s 57us/step - loss: 0.7926 - acc: 0.7848 - val_loss: 0.8012 - val_acc: 0.7665\n",
      "Epoch 7/10\n",
      "35796/35796 [==============================] - 2s 58us/step - loss: 0.6966 - acc: 0.8060 - val_loss: 0.7517 - val_acc: 0.7773\n",
      "Epoch 8/10\n",
      "35796/35796 [==============================] - 2s 59us/step - loss: 0.6285 - acc: 0.8209 - val_loss: 0.7209 - val_acc: 0.7876\n",
      "Epoch 9/10\n",
      "35796/35796 [==============================] - 2s 66us/step - loss: 0.5762 - acc: 0.8380 - val_loss: 0.7016 - val_acc: 0.7956\n",
      "Epoch 10/10\n",
      "35796/35796 [==============================] - 2s 68us/step - loss: 0.5297 - acc: 0.8491 - val_loss: 0.6933 - val_acc: 0.7949\n",
      "저장했다.\n"
     ]
    }
   ],
   "source": [
    "with K.tf.device('/gpu:0'):\n",
    "    mdl = load_model(x_train)\n",
    "    mdl.fit(x_train, y_train, nb_epoch=10, batch_size=4000,validation_split=0.1)\n",
    "    train_predict = mdl.predict(x_train)\n",
    "    y_test = mdl.predict(x_test)     \n",
    "    predictions = lb.inverse_transform(y_test)\n",
    "    save_submission(testdf, predictions)"
   ]
  },
  {
   "cell_type": "code",
   "execution_count": null,
   "metadata": {},
   "outputs": [],
   "source": []
  }
 ],
 "metadata": {
  "kernelspec": {
   "display_name": "Python 3",
   "language": "python",
   "name": "python3"
  },
  "language_info": {
   "codemirror_mode": {
    "name": "ipython",
    "version": 3
   },
   "file_extension": ".py",
   "mimetype": "text/x-python",
   "name": "python",
   "nbconvert_exporter": "python",
   "pygments_lexer": "ipython3",
   "version": "3.5.5"
  }
 },
 "nbformat": 4,
 "nbformat_minor": 2
}
