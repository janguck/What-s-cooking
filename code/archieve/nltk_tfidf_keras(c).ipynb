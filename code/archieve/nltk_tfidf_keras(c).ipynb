{
 "cells": [
  {
   "cell_type": "code",
   "execution_count": 1,
   "metadata": {},
   "outputs": [
    {
     "name": "stderr",
     "output_type": "stream",
     "text": [
      "/root/anaconda3/envs/ml_python/lib/python3.5/site-packages/h5py/__init__.py:36: FutureWarning: Conversion of the second argument of issubdtype from `float` to `np.floating` is deprecated. In future, it will be treated as `np.float64 == np.dtype(float).type`.\n",
      "  from ._conv import register_converters as _register_converters\n",
      "Using TensorFlow backend.\n"
     ]
    }
   ],
   "source": [
    "import keras.backend.tensorflow_backend as K\n",
    "from sklearn import preprocessing\n",
    "from sklearn.feature_extraction.text import TfidfVectorizer\n",
    "from common_helper import *\n",
    "from nltk_helper import *\n",
    "from keras_helper import *"
   ]
  },
  {
   "cell_type": "code",
   "execution_count": null,
   "metadata": {},
   "outputs": [],
   "source": [
    "train_dr = \"../input/train.json\"\n",
    "test_dr = \"../input/test.json\"\n",
    "traindf, testdf = data_load(train_dr, test_dr)\n",
    "x_train, y_train = data_preprocessing(traindf)\n",
    "x_test, _ = data_preprocessing(testdf)"
   ]
  },
  {
   "cell_type": "code",
   "execution_count": null,
   "metadata": {},
   "outputs": [],
   "source": [
    "#tfidf = TfidfVectorizer(analyzer=lambda d: d.split(','), ngram_range=(1,2)).fit(x_train)\n",
    "tfidf = TfidfVectorizer(analyzer=lambda d: d.split(',')).fit(x_train)\n",
    "\n",
    "x_train = tfidf.fit_transform(x_train).toarray()\n",
    "x_test = tfidf.transform(x_test).toarray()\n",
    "\n",
    "lb = preprocessing.LabelBinarizer()\n",
    "lb.fit(traindf.cuisine.values)\n",
    "y_train = lb.transform(traindf.cuisine.values)"
   ]
  },
  {
   "cell_type": "code",
   "execution_count": 10,
   "metadata": {
    "scrolled": true
   },
   "outputs": [
    {
     "name": "stderr",
     "output_type": "stream",
     "text": [
      "/root/strawberry/code/keras_helper.py:9: UserWarning: Update your `Dense` call to the Keras 2 API: `Dense(560, input_shape=(6715,), activation=\"selu\", kernel_initializer=\"glorot_uniform\")`\n",
      "  model.add(Dense(560, init='glorot_uniform', activation='selu', input_shape=(x_train.shape[1],)))\n",
      "/root/strawberry/code/keras_helper.py:11: UserWarning: Update your `Dense` call to the Keras 2 API: `Dense(140, activation=\"selu\", kernel_initializer=\"glorot_uniform\")`\n",
      "  model.add(Dense(140, init='glorot_uniform', activation='selu'))\n",
      "/root/anaconda3/envs/ml_python/lib/python3.5/site-packages/keras/models.py:942: UserWarning: The `nb_epoch` argument in `fit` has been renamed `epochs`.\n",
      "  warnings.warn('The `nb_epoch` argument in `fit` '\n"
     ]
    },
    {
     "name": "stdout",
     "output_type": "stream",
     "text": [
      "Train on 35796 samples, validate on 3978 samples\n",
      "Epoch 1/15\n",
      "35796/35796 [==============================] - 2s 70us/step - loss: 2.6394 - acc: 0.3225 - val_loss: 2.1617 - val_acc: 0.4062\n",
      "Epoch 2/15\n",
      "35796/35796 [==============================] - 2s 65us/step - loss: 1.9061 - acc: 0.4862 - val_loss: 1.5774 - val_acc: 0.5716\n",
      "Epoch 3/15\n",
      "35796/35796 [==============================] - 2s 63us/step - loss: 1.4047 - acc: 0.6244 - val_loss: 1.2157 - val_acc: 0.6631\n",
      "Epoch 4/15\n",
      "35796/35796 [==============================] - 2s 64us/step - loss: 1.1042 - acc: 0.7014 - val_loss: 1.0048 - val_acc: 0.7174\n",
      "Epoch 5/15\n",
      "35796/35796 [==============================] - 2s 62us/step - loss: 0.9175 - acc: 0.7483 - val_loss: 0.8771 - val_acc: 0.7448\n",
      "Epoch 6/15\n",
      "35796/35796 [==============================] - 2s 64us/step - loss: 0.7885 - acc: 0.7830 - val_loss: 0.7997 - val_acc: 0.7677\n",
      "Epoch 7/15\n",
      "35796/35796 [==============================] - 2s 62us/step - loss: 0.6928 - acc: 0.8071 - val_loss: 0.7513 - val_acc: 0.7803\n",
      "Epoch 8/15\n",
      "35796/35796 [==============================] - 2s 63us/step - loss: 0.6216 - acc: 0.8245 - val_loss: 0.7217 - val_acc: 0.7876\n",
      "Epoch 9/15\n",
      "35796/35796 [==============================] - 2s 63us/step - loss: 0.5718 - acc: 0.8380 - val_loss: 0.7041 - val_acc: 0.7926\n",
      "Epoch 10/15\n",
      "35796/35796 [==============================] - 2s 62us/step - loss: 0.5263 - acc: 0.8500 - val_loss: 0.6955 - val_acc: 0.7926\n",
      "Epoch 11/15\n",
      "35796/35796 [==============================] - 2s 64us/step - loss: 0.4916 - acc: 0.8594 - val_loss: 0.6918 - val_acc: 0.7941\n",
      "Epoch 12/15\n",
      "35796/35796 [==============================] - 2s 62us/step - loss: 0.4645 - acc: 0.8655 - val_loss: 0.6926 - val_acc: 0.7949\n",
      "Epoch 13/15\n",
      "35796/35796 [==============================] - 2s 62us/step - loss: 0.4417 - acc: 0.8727 - val_loss: 0.6932 - val_acc: 0.7934\n",
      "Epoch 14/15\n",
      "35796/35796 [==============================] - 2s 62us/step - loss: 0.4208 - acc: 0.8772 - val_loss: 0.6985 - val_acc: 0.7919\n",
      "Epoch 15/15\n",
      "35796/35796 [==============================] - 2s 65us/step - loss: 0.4000 - acc: 0.8821 - val_loss: 0.7035 - val_acc: 0.7911\n",
      "저장했다.\n"
     ]
    }
   ],
   "source": [
    "with K.tf.device('/gpu:0'):\n",
    "    mdl = load_model(x_train)\n",
    "    mdl.fit(x_train, y_train, nb_epoch=15, batch_size=4000,validation_split=0.1)\n",
    "    train_predict = mdl.predict(x_train)\n",
    "    y_test = mdl.predict(x_test)     \n",
    "    predictions = lb.inverse_transform(y_test)\n",
    "    save_submission(testdf, predictions)"
   ]
  }
 ],
 "metadata": {
  "kernelspec": {
   "display_name": "Python 3",
   "language": "python",
   "name": "python3"
  },
  "language_info": {
   "codemirror_mode": {
    "name": "ipython",
    "version": 3
   },
   "file_extension": ".py",
   "mimetype": "text/x-python",
   "name": "python",
   "nbconvert_exporter": "python",
   "pygments_lexer": "ipython3",
   "version": "3.5.5"
  }
 },
 "nbformat": 4,
 "nbformat_minor": 2
}
