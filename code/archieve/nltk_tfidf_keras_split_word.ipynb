{
 "cells": [
  {
   "cell_type": "code",
   "execution_count": 15,
   "metadata": {},
   "outputs": [],
   "source": [
    "import keras.backend.tensorflow_backend as K\n",
    "from sklearn import preprocessing\n",
    "from sklearn.feature_extraction.text import TfidfVectorizer\n",
    "import numpy as np\n",
    "from common_helper import *\n",
    "from nltk_helper import *\n",
    "from keras_helper import *"
   ]
  },
  {
   "cell_type": "code",
   "execution_count": 2,
   "metadata": {},
   "outputs": [],
   "source": [
    "train_dr = \"../input/train.json\"\n",
    "test_dr = \"../input/test.json\"\n",
    "traindf, testdf = data_load(train_dr, test_dr)"
   ]
  },
  {
   "cell_type": "code",
   "execution_count": 3,
   "metadata": {},
   "outputs": [],
   "source": [
    "instances = []\n",
    "for ingredients in traindf['ingredients']:\n",
    "    instance = []\n",
    "    for ingredient in ingredients:\n",
    "        word = []\n",
    "        for pos in ingredient.split(\" \"):\n",
    "            instance.append(WordNetLemmatizer().lemmatize(re.sub('[^A-Za-z]', ' ', pos)))\n",
    "    instances.append(instance)"
   ]
  },
  {
   "cell_type": "code",
   "execution_count": 4,
   "metadata": {},
   "outputs": [],
   "source": [
    "traindf['ingredients_string_split'] = instances\n",
    "traindf['ingredients_string_split'] = [','.join(i).strip().lower() for i in traindf['ingredients_string_split']] \n",
    "x_train_word = traindf['ingredients_string_split'].tolist()"
   ]
  },
  {
   "cell_type": "code",
   "execution_count": 5,
   "metadata": {},
   "outputs": [],
   "source": [
    "instances = []\n",
    "for ingredients in testdf['ingredients']:\n",
    "    instance = []\n",
    "    for ingredient in ingredients:\n",
    "        word = []\n",
    "        for pos in ingredient.split(\" \"):\n",
    "            instance.append(WordNetLemmatizer().lemmatize(re.sub('[^A-Za-z]', ' ', pos)))\n",
    "    instances.append(instance)"
   ]
  },
  {
   "cell_type": "code",
   "execution_count": 6,
   "metadata": {},
   "outputs": [],
   "source": [
    "testdf['ingredients_string_split'] = instances\n",
    "testdf['ingredients_string_split'] = [','.join(i).strip().lower() for i in testdf['ingredients_string_split']]\n",
    "x_test_word = testdf['ingredients_string_split'].tolist()"
   ]
  },
  {
   "cell_type": "code",
   "execution_count": 7,
   "metadata": {},
   "outputs": [],
   "source": [
    "x_train, y_train = data_preprocessing(traindf)\n",
    "x_test, _ = data_preprocessing(testdf)"
   ]
  },
  {
   "cell_type": "code",
   "execution_count": 8,
   "metadata": {},
   "outputs": [],
   "source": [
    "#tfidf = TfidfVectorizer(analyzer=lambda d: d.split(','), ngram_range=(1,2)).fit(x_train)\n",
    "tfidf = TfidfVectorizer(analyzer=lambda d: d.split(',')).fit(x_train)\n",
    "\n",
    "x_train = tfidf.fit_transform(x_train).toarray()\n",
    "x_test = tfidf.transform(x_test).toarray()\n",
    "\n",
    "lb = preprocessing.LabelBinarizer()\n",
    "lb.fit(traindf.cuisine.values)\n",
    "y_train = lb.transform(traindf.cuisine.values)"
   ]
  },
  {
   "cell_type": "code",
   "execution_count": 9,
   "metadata": {},
   "outputs": [],
   "source": [
    "tfidf = TfidfVectorizer(analyzer=lambda d: d.split(',')).fit(x_train_word)\n",
    "\n",
    "x_train_word = tfidf.fit_transform(x_train_word).toarray()\n",
    "x_test_word = tfidf.transform(x_test_word).toarray()"
   ]
  },
  {
   "cell_type": "code",
   "execution_count": 16,
   "metadata": {},
   "outputs": [],
   "source": [
    "x_train = np.concatenate((x_train, x_train_word), axis=1)\n",
    "x_test = np.concatenate((x_test, x_test_word), axis=1)"
   ]
  },
  {
   "cell_type": "code",
   "execution_count": 17,
   "metadata": {},
   "outputs": [
    {
     "data": {
      "text/plain": [
       "(39774, 9685)"
      ]
     },
     "execution_count": 17,
     "metadata": {},
     "output_type": "execute_result"
    }
   ],
   "source": [
    "x_train.shape"
   ]
  },
  {
   "cell_type": "code",
   "execution_count": 22,
   "metadata": {
    "scrolled": true
   },
   "outputs": [
    {
     "name": "stderr",
     "output_type": "stream",
     "text": [
      "/root/strawberry/code/keras_helper.py:9: UserWarning: Update your `Dense` call to the Keras 2 API: `Dense(560, kernel_initializer=\"glorot_uniform\", activation=\"selu\", input_shape=(9685,))`\n",
      "  model.add(Dense(560, init='glorot_uniform', activation='selu', input_shape=(x_train.shape[1],)))\n",
      "/root/strawberry/code/keras_helper.py:11: UserWarning: Update your `Dense` call to the Keras 2 API: `Dense(140, kernel_initializer=\"glorot_uniform\", activation=\"selu\")`\n",
      "  model.add(Dense(140, init='glorot_uniform', activation='selu'))\n",
      "/root/anaconda3/envs/ml_python/lib/python3.5/site-packages/keras/models.py:942: UserWarning: The `nb_epoch` argument in `fit` has been renamed `epochs`.\n",
      "  warnings.warn('The `nb_epoch` argument in `fit` '\n"
     ]
    },
    {
     "name": "stdout",
     "output_type": "stream",
     "text": [
      "Train on 35796 samples, validate on 3978 samples\n",
      "Epoch 1/11\n",
      "35796/35796 [==============================] - 4s 101us/step - loss: 2.4504 - acc: 0.3916 - val_loss: 1.8250 - val_acc: 0.5216\n",
      "Epoch 2/11\n",
      "35796/35796 [==============================] - 3s 90us/step - loss: 1.5348 - acc: 0.5990 - val_loss: 1.2056 - val_acc: 0.6737\n",
      "Epoch 3/11\n",
      "35796/35796 [==============================] - 3s 90us/step - loss: 1.0890 - acc: 0.7040 - val_loss: 0.9330 - val_acc: 0.7350\n",
      "Epoch 4/11\n",
      "35796/35796 [==============================] - 3s 89us/step - loss: 0.8718 - acc: 0.7633 - val_loss: 0.8057 - val_acc: 0.7667\n",
      "Epoch 5/11\n",
      "35796/35796 [==============================] - 3s 91us/step - loss: 0.7424 - acc: 0.7935 - val_loss: 0.7410 - val_acc: 0.7831\n",
      "Epoch 6/11\n",
      "35796/35796 [==============================] - 3s 89us/step - loss: 0.6515 - acc: 0.8145 - val_loss: 0.7012 - val_acc: 0.7941\n",
      "Epoch 7/11\n",
      "35796/35796 [==============================] - 3s 90us/step - loss: 0.5890 - acc: 0.8326 - val_loss: 0.6816 - val_acc: 0.7941\n",
      "Epoch 8/11\n",
      "35796/35796 [==============================] - 3s 89us/step - loss: 0.5408 - acc: 0.8430 - val_loss: 0.6703 - val_acc: 0.8014\n",
      "Epoch 9/11\n",
      "35796/35796 [==============================] - 3s 88us/step - loss: 0.5042 - acc: 0.8530 - val_loss: 0.6682 - val_acc: 0.8037\n",
      "Epoch 10/11\n",
      "35796/35796 [==============================] - 3s 89us/step - loss: 0.4745 - acc: 0.8629 - val_loss: 0.6694 - val_acc: 0.8037\n",
      "Epoch 11/11\n",
      "35796/35796 [==============================] - 3s 88us/step - loss: 0.4470 - acc: 0.8695 - val_loss: 0.6741 - val_acc: 0.8032\n",
      "Train on 35796 samples, validate on 3978 samples\n",
      "Epoch 1/11\n",
      "35796/35796 [==============================] - 4s 99us/step - loss: 2.4256 - acc: 0.3760 - val_loss: 1.7964 - val_acc: 0.5158\n",
      "Epoch 2/11\n",
      "35796/35796 [==============================] - 3s 89us/step - loss: 1.5185 - acc: 0.6020 - val_loss: 1.1937 - val_acc: 0.6719\n",
      "Epoch 3/11\n",
      "35796/35796 [==============================] - 3s 88us/step - loss: 1.0762 - acc: 0.7121 - val_loss: 0.9297 - val_acc: 0.7388\n",
      "Epoch 4/11\n",
      "35796/35796 [==============================] - 3s 92us/step - loss: 0.8575 - acc: 0.7670 - val_loss: 0.7964 - val_acc: 0.7710\n",
      "Epoch 5/11\n",
      "35796/35796 [==============================] - 3s 91us/step - loss: 0.7330 - acc: 0.7950 - val_loss: 0.7286 - val_acc: 0.7871\n",
      "Epoch 6/11\n",
      "35796/35796 [==============================] - 3s 88us/step - loss: 0.6506 - acc: 0.8153 - val_loss: 0.6907 - val_acc: 0.7949\n",
      "Epoch 7/11\n",
      "35796/35796 [==============================] - 3s 89us/step - loss: 0.5843 - acc: 0.8327 - val_loss: 0.6729 - val_acc: 0.7984\n",
      "Epoch 8/11\n",
      "35796/35796 [==============================] - 3s 93us/step - loss: 0.5383 - acc: 0.8457 - val_loss: 0.6647 - val_acc: 0.8017\n",
      "Epoch 9/11\n",
      "35796/35796 [==============================] - 3s 92us/step - loss: 0.4979 - acc: 0.8548 - val_loss: 0.6600 - val_acc: 0.8057\n",
      "Epoch 10/11\n",
      "35796/35796 [==============================] - 3s 92us/step - loss: 0.4738 - acc: 0.8619 - val_loss: 0.6654 - val_acc: 0.8062\n",
      "Epoch 11/11\n",
      "35796/35796 [==============================] - 3s 91us/step - loss: 0.4459 - acc: 0.8703 - val_loss: 0.6670 - val_acc: 0.8057\n",
      "Train on 35796 samples, validate on 3978 samples\n",
      "Epoch 1/11\n",
      "35796/35796 [==============================] - 4s 103us/step - loss: 2.4275 - acc: 0.3786 - val_loss: 1.7892 - val_acc: 0.5138\n",
      "Epoch 2/11\n",
      "35796/35796 [==============================] - 3s 91us/step - loss: 1.5070 - acc: 0.5893 - val_loss: 1.1849 - val_acc: 0.6677\n",
      "Epoch 3/11\n",
      "35796/35796 [==============================] - 3s 92us/step - loss: 1.0605 - acc: 0.7135 - val_loss: 0.9209 - val_acc: 0.7396\n",
      "Epoch 4/11\n",
      "35796/35796 [==============================] - 3s 91us/step - loss: 0.8550 - acc: 0.7647 - val_loss: 0.7914 - val_acc: 0.7725\n",
      "Epoch 5/11\n",
      "35796/35796 [==============================] - 3s 91us/step - loss: 0.7277 - acc: 0.7960 - val_loss: 0.7272 - val_acc: 0.7841\n",
      "Epoch 6/11\n",
      "35796/35796 [==============================] - 3s 93us/step - loss: 0.6407 - acc: 0.8166 - val_loss: 0.6898 - val_acc: 0.7961\n",
      "Epoch 7/11\n",
      "35796/35796 [==============================] - 3s 89us/step - loss: 0.5801 - acc: 0.8311 - val_loss: 0.6725 - val_acc: 0.7996\n",
      "Epoch 8/11\n",
      "35796/35796 [==============================] - 3s 91us/step - loss: 0.5364 - acc: 0.8450 - val_loss: 0.6629 - val_acc: 0.8044\n",
      "Epoch 9/11\n",
      "35796/35796 [==============================] - 3s 91us/step - loss: 0.4989 - acc: 0.8554 - val_loss: 0.6603 - val_acc: 0.8047\n",
      "Epoch 10/11\n",
      "35796/35796 [==============================] - 3s 92us/step - loss: 0.4709 - acc: 0.8640 - val_loss: 0.6618 - val_acc: 0.8059\n",
      "Epoch 11/11\n",
      "35796/35796 [==============================] - 3s 92us/step - loss: 0.4437 - acc: 0.8699 - val_loss: 0.6659 - val_acc: 0.8072\n"
     ]
    }
   ],
   "source": [
    "a = []\n",
    "for i in range(3):\n",
    "    with K.tf.device('/gpu:0'):\n",
    "        mdl = load_model(x_train)\n",
    "        mdl.fit(x_train, y_train, nb_epoch=11, batch_size=4000,validation_split=0.1)\n",
    "        train_predict = mdl.predict(x_train)\n",
    "        y_test = mdl.predict(x_test)     \n",
    "        a.append(y_test)    \n",
    "        predictions = lb.inverse_transform(y_test)"
   ]
  },
  {
   "cell_type": "code",
   "execution_count": 30,
   "metadata": {},
   "outputs": [],
   "source": [
    "# y_test = np.load('text_cnn')\n",
    "# a.append(y_test)"
   ]
  },
  {
   "cell_type": "code",
   "execution_count": 33,
   "metadata": {},
   "outputs": [
    {
     "name": "stdout",
     "output_type": "stream",
     "text": [
      "저장했다.\n"
     ]
    }
   ],
   "source": [
    "result = lb.inverse_transform(sum(a))\n",
    "save_submission(testdf, predictions)"
   ]
  },
  {
   "cell_type": "code",
   "execution_count": null,
   "metadata": {},
   "outputs": [],
   "source": []
  }
 ],
 "metadata": {
  "kernelspec": {
   "display_name": "Python 3",
   "language": "python",
   "name": "python3"
  },
  "language_info": {
   "codemirror_mode": {
    "name": "ipython",
    "version": 3
   },
   "file_extension": ".py",
   "mimetype": "text/x-python",
   "name": "python",
   "nbconvert_exporter": "python",
   "pygments_lexer": "ipython3",
   "version": "3.5.5"
  }
 },
 "nbformat": 4,
 "nbformat_minor": 2
}
