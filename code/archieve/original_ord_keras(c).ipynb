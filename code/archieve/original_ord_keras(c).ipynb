{
 "cells": [
  {
   "cell_type": "code",
   "execution_count": 1,
   "metadata": {},
   "outputs": [
    {
     "name": "stderr",
     "output_type": "stream",
     "text": [
      "/root/anaconda3/envs/ml_python/lib/python3.5/site-packages/h5py/__init__.py:36: FutureWarning: Conversion of the second argument of issubdtype from `float` to `np.floating` is deprecated. In future, it will be treated as `np.float64 == np.dtype(float).type`.\n",
      "  from ._conv import register_converters as _register_converters\n",
      "Using TensorFlow backend.\n"
     ]
    }
   ],
   "source": [
    "from sklearn import preprocessing\n",
    "import keras.backend.tensorflow_backend as K\n",
    "import numpy as np\n",
    "from original_helper import *\n",
    "from common_helper import *\n",
    "from ord_helper import *\n",
    "from keras_helper import *"
   ]
  },
  {
   "cell_type": "code",
   "execution_count": 2,
   "metadata": {},
   "outputs": [],
   "source": [
    "train_dr = \"../input/train.json\"\n",
    "test_dr = \"../input/test.json\"\n",
    "traindf, testdf = data_load(train_dr, test_dr)"
   ]
  },
  {
   "cell_type": "code",
   "execution_count": 3,
   "metadata": {},
   "outputs": [],
   "source": [
    "x_train, y_train = data_preprocessing(traindf)\n",
    "x_test, _ = data_preprocessing(testdf)"
   ]
  },
  {
   "cell_type": "code",
   "execution_count": 4,
   "metadata": {},
   "outputs": [],
   "source": [
    "x_train = data_vectorizer(x_train)\n",
    "x_test = data_vectorizer(x_test)\n",
    "\n",
    "x_train = [np.array(i) for i in x_train]\n",
    "x_test = [np.array(i) for i in x_test]\n",
    "x_train = np.array(x_train)\n",
    "x_test = np.array(x_test)"
   ]
  },
  {
   "cell_type": "code",
   "execution_count": 5,
   "metadata": {},
   "outputs": [],
   "source": [
    "from sklearn import preprocessing\n",
    "lb = preprocessing.LabelBinarizer()\n",
    "lb.fit(traindf.cuisine.values)\n",
    "y_train = lb.transform(traindf.cuisine.values)"
   ]
  },
  {
   "cell_type": "code",
   "execution_count": 6,
   "metadata": {
    "scrolled": true
   },
   "outputs": [
    {
     "name": "stderr",
     "output_type": "stream",
     "text": [
      "/root/strawberry/code/keras_helper.py:9: UserWarning: Update your `Dense` call to the Keras 2 API: `Dense(560, activation=\"selu\", input_shape=(2000,), kernel_initializer=\"glorot_uniform\")`\n",
      "  model.add(Dense(560, init='glorot_uniform', activation='selu', input_shape=(x_train.shape[1],)))\n",
      "/root/strawberry/code/keras_helper.py:11: UserWarning: Update your `Dense` call to the Keras 2 API: `Dense(140, activation=\"selu\", kernel_initializer=\"glorot_uniform\")`\n",
      "  model.add(Dense(140, init='glorot_uniform', activation='selu'))\n",
      "/root/anaconda3/envs/ml_python/lib/python3.5/site-packages/keras/models.py:942: UserWarning: The `nb_epoch` argument in `fit` has been renamed `epochs`.\n",
      "  warnings.warn('The `nb_epoch` argument in `fit` '\n"
     ]
    },
    {
     "name": "stdout",
     "output_type": "stream",
     "text": [
      "Train on 35796 samples, validate on 3978 samples\n",
      "Epoch 1/30\n",
      "35796/35796 [==============================] - 2s 46us/step - loss: 4.0100 - acc: 0.1825 - val_loss: 1.9453 - val_acc: 0.4754\n",
      "Epoch 2/30\n",
      "35796/35796 [==============================] - 1s 17us/step - loss: 2.4017 - acc: 0.3995 - val_loss: 1.5448 - val_acc: 0.5694\n",
      "Epoch 3/30\n",
      "35796/35796 [==============================] - 1s 16us/step - loss: 1.8585 - acc: 0.5106 - val_loss: 1.3052 - val_acc: 0.6239\n",
      "Epoch 4/30\n",
      "35796/35796 [==============================] - 1s 17us/step - loss: 1.6084 - acc: 0.5540 - val_loss: 1.1979 - val_acc: 0.6528\n",
      "Epoch 5/30\n",
      "35796/35796 [==============================] - 1s 17us/step - loss: 1.4586 - acc: 0.5869 - val_loss: 1.1321 - val_acc: 0.6672\n",
      "Epoch 6/30\n",
      "35796/35796 [==============================] - 1s 17us/step - loss: 1.3781 - acc: 0.6039 - val_loss: 1.1110 - val_acc: 0.6745\n",
      "Epoch 7/30\n",
      "35796/35796 [==============================] - 1s 17us/step - loss: 1.3016 - acc: 0.6252 - val_loss: 1.0800 - val_acc: 0.6828\n",
      "Epoch 8/30\n",
      "35796/35796 [==============================] - 1s 17us/step - loss: 1.2495 - acc: 0.6364 - val_loss: 1.0603 - val_acc: 0.6968\n",
      "Epoch 9/30\n",
      "35796/35796 [==============================] - 1s 16us/step - loss: 1.1955 - acc: 0.6504 - val_loss: 1.0509 - val_acc: 0.6963\n",
      "Epoch 10/30\n",
      "35796/35796 [==============================] - 1s 16us/step - loss: 1.1624 - acc: 0.6564 - val_loss: 1.0308 - val_acc: 0.6978\n",
      "Epoch 11/30\n",
      "35796/35796 [==============================] - 1s 16us/step - loss: 1.1361 - acc: 0.6642 - val_loss: 1.0270 - val_acc: 0.7014\n",
      "Epoch 12/30\n",
      "35796/35796 [==============================] - 1s 16us/step - loss: 1.1045 - acc: 0.6726 - val_loss: 1.0251 - val_acc: 0.7054\n",
      "Epoch 13/30\n",
      "35796/35796 [==============================] - 1s 17us/step - loss: 1.0835 - acc: 0.6779 - val_loss: 1.0154 - val_acc: 0.7059\n",
      "Epoch 14/30\n",
      "35796/35796 [==============================] - 1s 16us/step - loss: 1.0614 - acc: 0.6821 - val_loss: 1.0125 - val_acc: 0.7049\n",
      "Epoch 15/30\n",
      "35796/35796 [==============================] - 1s 16us/step - loss: 1.0369 - acc: 0.6875 - val_loss: 1.0139 - val_acc: 0.7061\n",
      "Epoch 16/30\n",
      "35796/35796 [==============================] - 1s 17us/step - loss: 1.0189 - acc: 0.6950 - val_loss: 1.0168 - val_acc: 0.7026\n",
      "Epoch 17/30\n",
      "35796/35796 [==============================] - 1s 17us/step - loss: 1.0084 - acc: 0.6974 - val_loss: 1.0105 - val_acc: 0.7066\n",
      "Epoch 18/30\n",
      "35796/35796 [==============================] - 1s 17us/step - loss: 0.9954 - acc: 0.7014 - val_loss: 1.0162 - val_acc: 0.7059\n",
      "Epoch 19/30\n",
      "35796/35796 [==============================] - 1s 17us/step - loss: 0.9796 - acc: 0.7055 - val_loss: 1.0179 - val_acc: 0.7092\n",
      "Epoch 20/30\n",
      "35796/35796 [==============================] - 1s 17us/step - loss: 0.9700 - acc: 0.7068 - val_loss: 1.0145 - val_acc: 0.7044\n",
      "Epoch 21/30\n",
      "35796/35796 [==============================] - 1s 17us/step - loss: 0.9549 - acc: 0.7127 - val_loss: 1.0056 - val_acc: 0.7092\n",
      "Epoch 22/30\n",
      "35796/35796 [==============================] - 1s 16us/step - loss: 0.9473 - acc: 0.7130 - val_loss: 1.0006 - val_acc: 0.7086\n",
      "Epoch 23/30\n",
      "35796/35796 [==============================] - 1s 17us/step - loss: 0.9318 - acc: 0.7158 - val_loss: 1.0053 - val_acc: 0.7079\n",
      "Epoch 24/30\n",
      "35796/35796 [==============================] - 1s 17us/step - loss: 0.9286 - acc: 0.7181 - val_loss: 1.0034 - val_acc: 0.7074\n",
      "Epoch 25/30\n",
      "35796/35796 [==============================] - 1s 16us/step - loss: 0.9097 - acc: 0.7212 - val_loss: 1.0073 - val_acc: 0.7084\n",
      "Epoch 26/30\n",
      "35796/35796 [==============================] - 1s 16us/step - loss: 0.9044 - acc: 0.7239 - val_loss: 1.0075 - val_acc: 0.7084\n",
      "Epoch 27/30\n",
      "35796/35796 [==============================] - 1s 16us/step - loss: 0.8959 - acc: 0.7262 - val_loss: 1.0100 - val_acc: 0.7061\n",
      "Epoch 28/30\n",
      "35796/35796 [==============================] - 1s 16us/step - loss: 0.8957 - acc: 0.7264 - val_loss: 1.0218 - val_acc: 0.7066\n",
      "Epoch 29/30\n",
      "35796/35796 [==============================] - 1s 17us/step - loss: 0.8833 - acc: 0.7296 - val_loss: 1.0312 - val_acc: 0.7064\n",
      "Epoch 30/30\n",
      "35796/35796 [==============================] - 1s 17us/step - loss: 0.8796 - acc: 0.7323 - val_loss: 1.0173 - val_acc: 0.7054\n",
      "저장했다.\n"
     ]
    }
   ],
   "source": [
    "with K.tf.device('/gpu:0'):\n",
    "    mdl = load_model(x_train)\n",
    "    mdl.fit(x_train, y_train, nb_epoch=30, batch_size=3000,validation_split=0.1)\n",
    "    y_test = mdl.predict(x_test)     \n",
    "    predictions = lb.inverse_transform(y_test)\n",
    "    save_submission(testdf, predictions)"
   ]
  }
 ],
 "metadata": {
  "kernelspec": {
   "display_name": "Python 3",
   "language": "python",
   "name": "python3"
  },
  "language_info": {
   "codemirror_mode": {
    "name": "ipython",
    "version": 3
   },
   "file_extension": ".py",
   "mimetype": "text/x-python",
   "name": "python",
   "nbconvert_exporter": "python",
   "pygments_lexer": "ipython3",
   "version": "3.5.5"
  }
 },
 "nbformat": 4,
 "nbformat_minor": 2
}
